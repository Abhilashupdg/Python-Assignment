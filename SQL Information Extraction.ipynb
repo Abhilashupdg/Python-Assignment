{
 "cells": [
  {
   "cell_type": "code",
   "execution_count": 213,
   "id": "3a5ca82d",
   "metadata": {},
   "outputs": [],
   "source": [
    "import re\n",
    "import pandas as pd"
   ]
  },
  {
   "cell_type": "code",
   "execution_count": 214,
   "id": "498f3aea",
   "metadata": {},
   "outputs": [],
   "source": [
    "try:\n",
    "    \n",
    "    with open('sample_stored_procedure.sql', 'r') as f:\n",
    "        sqlFile = f.read()\n",
    "\n",
    "    sqlCommands = str(sqlCommands)\n",
    "\n",
    "    data = sqlCommands\n",
    "\n",
    "    update_statement = re.findall(r'(?:UPDATE)\\s*([^\\s \\\\n]+)', data)\n",
    "    source_from_statement = re.findall(r'(?:FROM)\\s*([^\\s \\\\n]+)', data)\n",
    "    join_statement = re.findall(r'(?:JOIN)\\s*([^\\s \\\\n]+)', data)\n",
    "    \n",
    "except Exception as err:\n",
    "    raise err"
   ]
  },
  {
   "cell_type": "code",
   "execution_count": 215,
   "id": "a9c3dcac",
   "metadata": {},
   "outputs": [],
   "source": [
    "#creating dataframes of all the respective statements\n",
    "update_df = pd.DataFrame({'Table Source': update_statement})\n",
    "source_from_df = pd.DataFrame({'Table Source': source_from_statement})\n",
    "join_df = pd.DataFrame({'Table Source': join_statement})"
   ]
  },
  {
   "cell_type": "code",
   "execution_count": 216,
   "id": "4b11c0e8",
   "metadata": {},
   "outputs": [],
   "source": [
    "#converting these dataframes to json files(all table names appear in the order which they are used)\n",
    "update_df.to_json('update_tables.json', orient='records', lines=True)\n",
    "source_from_df.to_json('source_tables.json', orient='records', lines=True)\n",
    "join_df.to_json('join_tables.json', orient='records', lines=True)"
   ]
  },
  {
   "cell_type": "code",
   "execution_count": null,
   "id": "b56c2259",
   "metadata": {},
   "outputs": [],
   "source": []
  }
 ],
 "metadata": {
  "kernelspec": {
   "display_name": "Python 3 (ipykernel)",
   "language": "python",
   "name": "python3"
  },
  "language_info": {
   "codemirror_mode": {
    "name": "ipython",
    "version": 3
   },
   "file_extension": ".py",
   "mimetype": "text/x-python",
   "name": "python",
   "nbconvert_exporter": "python",
   "pygments_lexer": "ipython3",
   "version": "3.9.7"
  }
 },
 "nbformat": 4,
 "nbformat_minor": 5
}
