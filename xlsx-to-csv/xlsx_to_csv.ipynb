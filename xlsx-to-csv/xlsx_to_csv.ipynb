{
 "cells": [
  {
   "cell_type": "code",
   "execution_count": 8,
   "id": "e6e651d8",
   "metadata": {},
   "outputs": [],
   "source": [
    "import pandas as pd"
   ]
  },
  {
   "cell_type": "code",
   "execution_count": 12,
   "id": "7f1c6ee8",
   "metadata": {},
   "outputs": [],
   "source": [
    "def convert_excel_csv(file):\n",
    "    try:\n",
    "        excel_file = file\n",
    "        all_sheets = pd.read_excel(excel_file, sheet_name=None)\n",
    "        sheets = all_sheets.keys()\n",
    "\n",
    "        for sheet_name in sheets:\n",
    "            sheet = pd.read_excel(excel_file, sheet_name=sheet_name)\n",
    "            sheet.to_csv(\"%s.csv\" % sheet_name, index=False)\n",
    "    except Exception as err:\n",
    "        raise err"
   ]
  },
  {
   "cell_type": "code",
   "execution_count": 13,
   "id": "e5f76608",
   "metadata": {},
   "outputs": [],
   "source": [
    "convert_excel_csv('Sample_Data - Python Assignment.xlsx')"
   ]
  },
  {
   "cell_type": "code",
   "execution_count": null,
   "id": "86a5283a",
   "metadata": {},
   "outputs": [],
   "source": []
  }
 ],
 "metadata": {
  "kernelspec": {
   "display_name": "Python 3 (ipykernel)",
   "language": "python",
   "name": "python3"
  },
  "language_info": {
   "codemirror_mode": {
    "name": "ipython",
    "version": 3
   },
   "file_extension": ".py",
   "mimetype": "text/x-python",
   "name": "python",
   "nbconvert_exporter": "python",
   "pygments_lexer": "ipython3",
   "version": "3.9.7"
  }
 },
 "nbformat": 4,
 "nbformat_minor": 5
}
